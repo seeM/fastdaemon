{
 "cells": [
  {
   "cell_type": "code",
   "execution_count": null,
   "metadata": {},
   "outputs": [],
   "source": [
    "#|hide\n",
    "#|default_exp core"
   ]
  },
  {
   "cell_type": "markdown",
   "metadata": {},
   "source": [
    "# core\n",
    "\n",
    "> fastdaemon protocol and client"
   ]
  },
  {
   "cell_type": "markdown",
   "metadata": {},
   "source": [
    "Since this module defines the client, it's important that it has minimal dependencies for us to actually benefit from faster startup. The protocol is largely based on [`fastcgi`](https://github.com/fastai/fastcgi) though much less feature-full."
   ]
  },
  {
   "cell_type": "code",
   "execution_count": null,
   "metadata": {},
   "outputs": [],
   "source": [
    "#|export\n",
    "import argparse,socket,struct,sys"
   ]
  },
  {
   "cell_type": "code",
   "execution_count": null,
   "metadata": {},
   "outputs": [],
   "source": [
    "#|hide\n",
    "from nbprocess.showdoc import *"
   ]
  },
  {
   "cell_type": "code",
   "execution_count": null,
   "metadata": {},
   "outputs": [],
   "source": [
    "import time\n",
    "from io import BytesIO, BufferedReader\n",
    "from pathlib import Path\n",
    "from socketserver import UnixStreamServer,StreamRequestHandler\n",
    "\n",
    "from fastcore.parallel import threaded"
   ]
  },
  {
   "cell_type": "markdown",
   "metadata": {},
   "source": [
    "## Protocol"
   ]
  },
  {
   "cell_type": "code",
   "execution_count": null,
   "metadata": {},
   "outputs": [],
   "source": [
    "#|export\n",
    "def _S(fmt): return struct.Struct('!'+fmt) # use `struct` \"network order\"\n",
    "_long_struct = _S('L')"
   ]
  },
  {
   "cell_type": "code",
   "execution_count": null,
   "metadata": {},
   "outputs": [],
   "source": [
    "#|export\n",
    "def _recv_struct(r, fmt):\n",
    "    if not isinstance(fmt,struct.Struct): fmt = _S(fmt)\n",
    "    res = fmt.unpack(r(fmt.size))\n",
    "    return res[0] if len(res)==1 else res"
   ]
  },
  {
   "cell_type": "code",
   "execution_count": null,
   "metadata": {},
   "outputs": [],
   "source": [
    "#|export\n",
    "def _str_struct(s): return _long_struct.pack(len(s)) + (s.encode('utf-8') if isinstance(s,str) else s)"
   ]
  },
  {
   "cell_type": "code",
   "execution_count": null,
   "metadata": {},
   "outputs": [],
   "source": [
    "#|export\n",
    "def send_record(w, c):\n",
    "    \"Send a sequence of length-prefixed utf-8-encoded strings\"\n",
    "    w(b''.join(_str_struct(s) for s in c))"
   ]
  },
  {
   "cell_type": "code",
   "execution_count": null,
   "metadata": {},
   "outputs": [
    {
     "data": {
      "text/plain": [
       "b'\\x00\\x00\\x00\\x1afrom fastcore.all import *\\x00\\x00\\x00\\x17nbprocess_clean --stdin'"
      ]
     },
     "execution_count": null,
     "metadata": {},
     "output_type": "execute_result"
    }
   ],
   "source": [
    "ss = ['from fastcore.all import *', 'nbprocess_clean --stdin']\n",
    "f = BytesIO()\n",
    "send_record(f.write, ss)\n",
    "b = f.getvalue(); b"
   ]
  },
  {
   "cell_type": "code",
   "execution_count": null,
   "metadata": {},
   "outputs": [],
   "source": [
    "#|export\n",
    "def _recv_len(r): return _recv_struct(r, _long_struct)"
   ]
  },
  {
   "cell_type": "code",
   "execution_count": null,
   "metadata": {},
   "outputs": [
    {
     "data": {
      "text/plain": [
       "26"
      ]
     },
     "execution_count": null,
     "metadata": {},
     "output_type": "execute_result"
    }
   ],
   "source": [
    "_recv_len(BufferedReader(BytesIO(b)).read)"
   ]
  },
  {
   "cell_type": "code",
   "execution_count": null,
   "metadata": {},
   "outputs": [],
   "source": [
    "#|export\n",
    "def _recv_string(r):\n",
    "    l = _recv_len(r)\n",
    "    return struct.unpack(f'{l}s', r(l))[0].decode('utf-8')"
   ]
  },
  {
   "cell_type": "code",
   "execution_count": null,
   "metadata": {},
   "outputs": [],
   "source": [
    "#|export\n",
    "def recv_record(r):\n",
    "    \"Receive two variable-length utf-8-encoded strings\"\n",
    "    return [_recv_string(r) for _ in range(2)]"
   ]
  },
  {
   "cell_type": "code",
   "execution_count": null,
   "metadata": {},
   "outputs": [
    {
     "data": {
      "text/plain": [
       "['from fastcore.all import *', 'nbprocess_clean --stdin']"
      ]
     },
     "execution_count": null,
     "metadata": {},
     "output_type": "execute_result"
    }
   ],
   "source": [
    "recv_record(BytesIO(b).read)"
   ]
  },
  {
   "cell_type": "code",
   "execution_count": null,
   "metadata": {},
   "outputs": [],
   "source": [
    "#|export\n",
    "def _socket_det(port,host,dgram):\n",
    "    # Source: https://github.com/fastai/fastcore/blob/da9ca219c86190d22f4dbf2c3cad619c477d64a4/fastcore/net.py#L222-L225\n",
    "    if isinstance(port,int): family,addr = socket.AF_INET,(host or socket.gethostname(),port) # TODO: default to localhost?\n",
    "    else: family,addr = socket.AF_UNIX,port\n",
    "    return family,addr,(socket.SOCK_STREAM,socket.SOCK_DGRAM)[dgram]"
   ]
  },
  {
   "cell_type": "code",
   "execution_count": null,
   "metadata": {},
   "outputs": [],
   "source": [
    "#|export\n",
    "def start_client(port, host=None, dgram=False):\n",
    "    \"Create a `socket` client on `port`, with optional `host`, of type `dgram`\"\n",
    "    # Source: https://github.com/fastai/fastcore/blob/da9ca219c86190d22f4dbf2c3cad619c477d64a4/fastcore/net.py#L242-L247\n",
    "    family,addr,typ = _socket_det(port,host,dgram)\n",
    "    s = socket.socket(family, typ)\n",
    "    s.connect(addr)\n",
    "    return s"
   ]
  },
  {
   "cell_type": "code",
   "execution_count": null,
   "metadata": {},
   "outputs": [],
   "source": [
    "#|export\n",
    "def transfer(data, port, host=None, dgram=False):\n",
    "    \"Send a request and receive a reply in one socket using the fastdaemon protocol\"\n",
    "    with start_client(port, host, dgram) as client:\n",
    "        with client.makefile('wb') as f: send_record(f.write, data)\n",
    "        with client.makefile('rb') as f: return recv_record(f.read)"
   ]
  },
  {
   "cell_type": "code",
   "execution_count": null,
   "metadata": {},
   "outputs": [],
   "source": [
    "class EchoHandler(StreamRequestHandler):\n",
    "    def handle(self): self.wfile.write(self.rfile.readline())"
   ]
  },
  {
   "cell_type": "code",
   "execution_count": null,
   "metadata": {},
   "outputs": [],
   "source": [
    "p = Path('fdaemon.sock')\n",
    "if p.exists(): p.unlink()\n",
    "\n",
    "@threaded\n",
    "def _f():\n",
    "    with UnixStreamServer(str(p), EchoHandler) as srv: srv.handle_request()\n",
    "_f()\n",
    "time.sleep(0.2) # wait for server to start"
   ]
  },
  {
   "cell_type": "code",
   "execution_count": null,
   "metadata": {},
   "outputs": [
    {
     "data": {
      "text/plain": [
       "['Input via stdin', 'world\\n']"
      ]
     },
     "execution_count": null,
     "metadata": {},
     "output_type": "execute_result"
    }
   ],
   "source": [
    "transfer(['Input via stdin', 'world\\n'], str(p)) # trailing \\n is required since TestHandler uses `readline`"
   ]
  },
  {
   "cell_type": "markdown",
   "metadata": {},
   "source": [
    "## Client"
   ]
  },
  {
   "cell_type": "code",
   "execution_count": null,
   "metadata": {},
   "outputs": [],
   "source": [
    "#|export\n",
    "def _fastdaemon_client(port, host, dgram, args):\n",
    "    args = ' '.join(args)\n",
    "    stdin = sys.stdin.read() if not sys.stdin.isatty() else ''\n",
    "    stdout,stderr = transfer((stdin,args), port, host)\n",
    "    sys.stderr.write(stderr)\n",
    "    sys.stdout.write(stdout)"
   ]
  },
  {
   "cell_type": "code",
   "execution_count": null,
   "metadata": {},
   "outputs": [],
   "source": [
    "#|export\n",
    "def fastdaemon_client(argv=None):\n",
    "    \"Forward `sys.argv` and `sys.stdin` to server and write response to `sys.stdout` and `sys.stderr`\"\n",
    "    if argv is None: argv = sys.argv[1:]\n",
    "    p = argparse.ArgumentParser(description=fastdaemon_client.__doc__)\n",
    "    p.add_argument('port', type=str, help='Server port. Use int for TCP, and str for Unix socket')\n",
    "    p.add_argument('--host', type=str, help='Server host (default: `socket.gethostname()`)', default=None)\n",
    "    p.add_argument('--dgram', action='store_true', help='Use `SOCK_DGRAM`?', default=None)\n",
    "    args,rest = p.parse_known_args(argv)\n",
    "    try: args.port = int(args.port)\n",
    "    except ValueError: pass\n",
    "    args.args = rest\n",
    "    _fastdaemon_client(**vars(args))"
   ]
  },
  {
   "cell_type": "code",
   "execution_count": null,
   "metadata": {},
   "outputs": [
    {
     "name": "stdout",
     "output_type": "stream",
     "text": [
      "usage: fastdaemon_client [-h] [--host HOST] [--dgram] port\r\n",
      "\r\n",
      "Forward `sys.argv` and `sys.stdin` to server and write response to\r\n",
      "`sys.stdout` and `sys.stderr`\r\n",
      "\r\n",
      "positional arguments:\r\n",
      "  port         Server port. Use int for TCP, and str for Unix socket\r\n",
      "\r\n",
      "optional arguments:\r\n",
      "  -h, --help   show this help message and exit\r\n",
      "  --host HOST  Server host (default: `socket.gethostname()`)\r\n",
      "  --dgram      Use `SOCK_DGRAM`?\r\n"
     ]
    }
   ],
   "source": [
    "!fastdaemon_client -h"
   ]
  },
  {
   "cell_type": "markdown",
   "metadata": {},
   "source": [
    "## Export -"
   ]
  },
  {
   "cell_type": "code",
   "execution_count": null,
   "metadata": {},
   "outputs": [],
   "source": [
    "#|hide\n",
    "#|eval: false\n",
    "from nbprocess.doclinks import nbprocess_export\n",
    "nbprocess_export()"
   ]
  },
  {
   "cell_type": "code",
   "execution_count": null,
   "metadata": {},
   "outputs": [],
   "source": []
  }
 ],
 "metadata": {
  "kernelspec": {
   "display_name": "Python 3 (ipykernel)",
   "language": "python",
   "name": "python3"
  }
 },
 "nbformat": 4,
 "nbformat_minor": 4
}
