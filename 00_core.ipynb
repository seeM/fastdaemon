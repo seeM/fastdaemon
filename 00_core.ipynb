{
 "cells": [
  {
   "cell_type": "code",
   "execution_count": null,
   "metadata": {},
   "outputs": [],
   "source": [
    "#|hide\n",
    "#|default_exp core"
   ]
  },
  {
   "cell_type": "markdown",
   "metadata": {},
   "source": [
    "# core\n",
    "\n",
    "> Fast scripts using daemon mode"
   ]
  },
  {
   "cell_type": "code",
   "execution_count": null,
   "metadata": {},
   "outputs": [],
   "source": [
    "#|export\n",
    "from concurrent.futures import ProcessPoolExecutor\n",
    "from contextlib import redirect_stdout\n",
    "from io import StringIO\n",
    "from multiprocessing import get_context\n",
    "from socketserver import TCPServer, StreamRequestHandler\n",
    "import time\n",
    "\n",
    "from fastcore.meta import *\n",
    "from fastcore.script import *\n",
    "from fastcore.utils import *\n",
    "\n",
    "from nbprocess.clean import nbprocess_clean"
   ]
  },
  {
   "cell_type": "code",
   "execution_count": null,
   "metadata": {},
   "outputs": [],
   "source": [
    "#|hide\n",
    "from nbprocess.showdoc import *"
   ]
  },
  {
   "cell_type": "code",
   "execution_count": null,
   "metadata": {},
   "outputs": [],
   "source": [
    "from fastcore.net import *"
   ]
  },
  {
   "cell_type": "code",
   "execution_count": null,
   "metadata": {},
   "outputs": [],
   "source": [
    "#|export\n",
    "def _handle(func, data):\n",
    "    argv = data.decode().strip()\n",
    "    sys.argv = [func.__name__] + (argv.split(' ') if argv else [])\n",
    "    print('sys.argv:', sys.argv)\n",
    "    with redirect_stdout(StringIO()) as s: func()\n",
    "    return s.getvalue().encode()"
   ]
  },
  {
   "cell_type": "code",
   "execution_count": null,
   "metadata": {},
   "outputs": [],
   "source": [
    "#|export\n",
    "class DaemonHandler(StreamRequestHandler):\n",
    "    def handle(self):\n",
    "        data = self.rfile.readline().strip()\n",
    "        print(\"{} wrote:\".format(self.client_address[0]))\n",
    "        print('data:', data)\n",
    "        future = self.server.pool.submit(_handle, self.server.func, data)\n",
    "        result = future.result()\n",
    "        print('result:', result)\n",
    "        self.wfile.write(result)"
   ]
  },
  {
   "cell_type": "code",
   "execution_count": null,
   "metadata": {},
   "outputs": [],
   "source": [
    "#|export\n",
    "class DaemonServer(TCPServer):\n",
    "    @delegates(TCPServer)\n",
    "    def __init__(self, server_address, RequestHandlerClass, func, timeout=None, **kwargs):\n",
    "        self.func,self.timeout = func,timeout\n",
    "        super().__init__(server_address, RequestHandlerClass)\n",
    "        \n",
    "    def server_activate(self):\n",
    "        self.pool = ProcessPoolExecutor(mp_context=get_context('fork')) # TODO: make ctx configurable?\n",
    "        super().server_activate()\n",
    "        \n",
    "    def server_close(self):\n",
    "        if hasattr(self,'pool'): self.pool.shutdown()\n",
    "        super().server_close()\n",
    "        \n",
    "    def handle_timeout(self):\n",
    "        print('timed out')\n",
    "        return True"
   ]
  },
  {
   "cell_type": "code",
   "execution_count": null,
   "metadata": {},
   "outputs": [],
   "source": [
    "def send_recv(addr, s='', encoding='utf-8'):\n",
    "    host,port = addr\n",
    "    with start_client(port, host) as client:\n",
    "        client.sendall((s+'\\n').encode(encoding))\n",
    "        return client.recv(1024).decode(encoding)"
   ]
  },
  {
   "cell_type": "code",
   "execution_count": null,
   "metadata": {},
   "outputs": [],
   "source": [
    "def _func(): return 'hello world!'"
   ]
  },
  {
   "cell_type": "code",
   "execution_count": null,
   "metadata": {},
   "outputs": [
    {
     "name": "stdout",
     "output_type": "stream",
     "text": [
      "127.0.0.1 wrote:\n",
      "data: b''\n",
      "sys.argv: ['_func']\n",
      "result: b''\n"
     ]
    },
    {
     "data": {
      "text/plain": [
       "''"
      ]
     },
     "execution_count": null,
     "metadata": {},
     "output_type": "execute_result"
    }
   ],
   "source": [
    "addr = 'localhost',9999\n",
    "@threaded\n",
    "def _f():\n",
    "    with DaemonServer(addr, PoolHandler, _func) as srv: srv.handle_request()\n",
    "_f()\n",
    "time.sleep(0.2) # wait for server to start\n",
    "\n",
    "send_recv(addr)"
   ]
  },
  {
   "cell_type": "code",
   "execution_count": null,
   "metadata": {},
   "outputs": [
    {
     "ename": "OSError",
     "evalue": "[Errno 48] Address already in use",
     "output_type": "error",
     "traceback": [
      "\u001b[0;31m---------------------------------------------------------------------------\u001b[0m",
      "\u001b[0;31mOSError\u001b[0m                                   Traceback (most recent call last)",
      "Input \u001b[0;32mIn [2]\u001b[0m, in \u001b[0;36m<cell line: 41>\u001b[0;34m()\u001b[0m\n\u001b[1;32m     39\u001b[0m         \u001b[38;5;28mself\u001b[39m\u001b[38;5;241m.\u001b[39mrequest\u001b[38;5;241m.\u001b[39msendall(result)\n\u001b[1;32m     41\u001b[0m \u001b[38;5;28;01mif\u001b[39;00m \u001b[38;5;18m__name__\u001b[39m \u001b[38;5;241m==\u001b[39m \u001b[38;5;124m'\u001b[39m\u001b[38;5;124m__main__\u001b[39m\u001b[38;5;124m'\u001b[39m:\n\u001b[0;32m---> 42\u001b[0m     \u001b[38;5;28;01mwith\u001b[39;00m FastTCPServer((\u001b[38;5;124m'\u001b[39m\u001b[38;5;124mlocalhost\u001b[39m\u001b[38;5;124m'\u001b[39m,\u001b[38;5;241m9999\u001b[39m), FastTCPHandler) \u001b[38;5;28;01mas\u001b[39;00m server: server\u001b[38;5;241m.\u001b[39mserve_forever()\n",
      "File \u001b[0;32m~/.pyenv/versions/3.9.7/lib/python3.9/socketserver.py:452\u001b[0m, in \u001b[0;36mTCPServer.__init__\u001b[0;34m(self, server_address, RequestHandlerClass, bind_and_activate)\u001b[0m\n\u001b[1;32m    450\u001b[0m \u001b[38;5;28;01mif\u001b[39;00m bind_and_activate:\n\u001b[1;32m    451\u001b[0m     \u001b[38;5;28;01mtry\u001b[39;00m:\n\u001b[0;32m--> 452\u001b[0m         \u001b[38;5;28;43mself\u001b[39;49m\u001b[38;5;241;43m.\u001b[39;49m\u001b[43mserver_bind\u001b[49m\u001b[43m(\u001b[49m\u001b[43m)\u001b[49m\n\u001b[1;32m    453\u001b[0m         \u001b[38;5;28mself\u001b[39m\u001b[38;5;241m.\u001b[39mserver_activate()\n\u001b[1;32m    454\u001b[0m     \u001b[38;5;28;01mexcept\u001b[39;00m:\n",
      "File \u001b[0;32m~/.pyenv/versions/3.9.7/lib/python3.9/socketserver.py:466\u001b[0m, in \u001b[0;36mTCPServer.server_bind\u001b[0;34m(self)\u001b[0m\n\u001b[1;32m    464\u001b[0m \u001b[38;5;28;01mif\u001b[39;00m \u001b[38;5;28mself\u001b[39m\u001b[38;5;241m.\u001b[39mallow_reuse_address:\n\u001b[1;32m    465\u001b[0m     \u001b[38;5;28mself\u001b[39m\u001b[38;5;241m.\u001b[39msocket\u001b[38;5;241m.\u001b[39msetsockopt(socket\u001b[38;5;241m.\u001b[39mSOL_SOCKET, socket\u001b[38;5;241m.\u001b[39mSO_REUSEADDR, \u001b[38;5;241m1\u001b[39m)\n\u001b[0;32m--> 466\u001b[0m \u001b[38;5;28;43mself\u001b[39;49m\u001b[38;5;241;43m.\u001b[39;49m\u001b[43msocket\u001b[49m\u001b[38;5;241;43m.\u001b[39;49m\u001b[43mbind\u001b[49m\u001b[43m(\u001b[49m\u001b[38;5;28;43mself\u001b[39;49m\u001b[38;5;241;43m.\u001b[39;49m\u001b[43mserver_address\u001b[49m\u001b[43m)\u001b[49m\n\u001b[1;32m    467\u001b[0m \u001b[38;5;28mself\u001b[39m\u001b[38;5;241m.\u001b[39mserver_address \u001b[38;5;241m=\u001b[39m \u001b[38;5;28mself\u001b[39m\u001b[38;5;241m.\u001b[39msocket\u001b[38;5;241m.\u001b[39mgetsockname()\n",
      "\u001b[0;31mOSError\u001b[0m: [Errno 48] Address already in use"
     ]
    }
   ],
   "source": [
    "#|export\n",
    "if __name__ == '__main__':\n",
    "    with DaemonServer(('localhost',9999), DaemonHandler, nbprocess_clean, 3) as srv:\n",
    "        while not srv.handle_request(): pass"
   ]
  },
  {
   "cell_type": "code",
   "execution_count": null,
   "metadata": {},
   "outputs": [],
   "source": [
    "#|export\n",
    "@call_parse#(nested=True)\n",
    "def fastdaemon():\n",
    "    \"Fast scripts using daemon mode\"\n",
    "    print(f'Called fastdaemon, with: {locals()}')\n",
    "    with ProcessPoolExecutor() as pool:\n",
    "        future = pool.submit(add1, 0)\n",
    "        result = future.result()\n",
    "        print(pool._processes)\n",
    "    return result"
   ]
  },
  {
   "cell_type": "markdown",
   "metadata": {},
   "source": [
    "## Export -"
   ]
  },
  {
   "cell_type": "code",
   "execution_count": null,
   "metadata": {},
   "outputs": [],
   "source": [
    "#|hide\n",
    "#|eval: false\n",
    "from nbprocess.doclinks import nbprocess_export\n",
    "nbprocess_export()"
   ]
  },
  {
   "cell_type": "code",
   "execution_count": null,
   "metadata": {},
   "outputs": [],
   "source": []
  }
 ],
 "metadata": {
  "kernelspec": {
   "display_name": "Python 3 (ipykernel)",
   "language": "python",
   "name": "python3"
  }
 },
 "nbformat": 4,
 "nbformat_minor": 4
}
