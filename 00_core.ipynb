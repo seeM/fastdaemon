{
 "cells": [
  {
   "cell_type": "code",
   "execution_count": 1,
   "metadata": {},
   "outputs": [],
   "source": [
    "#|hide\n",
    "#|default_exp core"
   ]
  },
  {
   "cell_type": "markdown",
   "metadata": {},
   "source": [
    "# core\n",
    "\n",
    "> Fast scripts using daemon mode"
   ]
  },
  {
   "cell_type": "code",
   "execution_count": 2,
   "metadata": {},
   "outputs": [],
   "source": [
    "#|export\n",
    "import argparse,socket,struct,sys"
   ]
  },
  {
   "cell_type": "code",
   "execution_count": 3,
   "metadata": {},
   "outputs": [],
   "source": [
    "import time\n",
    "from io import BytesIO\n",
    "from socketserver import TCPServer,StreamRequestHandler\n",
    "from fastcore.parallel import threaded"
   ]
  },
  {
   "cell_type": "code",
   "execution_count": 4,
   "metadata": {},
   "outputs": [],
   "source": [
    "#|export\n",
    "def _send_string(w, s):\n",
    "    if isinstance(s,str): s = s.encode('utf-8')\n",
    "    l = len(s)\n",
    "    w(struct.pack(f'!L{l}s', l, s))"
   ]
  },
  {
   "cell_type": "code",
   "execution_count": 5,
   "metadata": {},
   "outputs": [],
   "source": [
    "#|export\n",
    "def send_strings(w, ss):\n",
    "    \"Send a list of variable length utf-8-encoded strings\"\n",
    "    for s in ss: _send_string(w, s)"
   ]
  },
  {
   "cell_type": "code",
   "execution_count": 6,
   "metadata": {},
   "outputs": [
    {
     "data": {
      "text/plain": [
       "b'\\x00\\x00\\x00\\x1bfrom fastcore.all import *\\n\\x00\\x00\\x00\\x17nbprocess_clean --stdin'"
      ]
     },
     "execution_count": 6,
     "metadata": {},
     "output_type": "execute_result"
    }
   ],
   "source": [
    "ss = ['from fastcore.all import *\\n', 'nbprocess_clean --stdin']\n",
    "f = BytesIO()\n",
    "send_strings(f.write, ss)\n",
    "b = f.getvalue(); b"
   ]
  },
  {
   "cell_type": "code",
   "execution_count": 7,
   "metadata": {},
   "outputs": [],
   "source": [
    "#|export\n",
    "def readlen(r):\n",
    "    \"Read the length of the next string\"\n",
    "    return struct.unpack('!L', r(4))[0]"
   ]
  },
  {
   "cell_type": "code",
   "execution_count": 8,
   "metadata": {},
   "outputs": [
    {
     "data": {
      "text/plain": [
       "27"
      ]
     },
     "execution_count": 8,
     "metadata": {},
     "output_type": "execute_result"
    }
   ],
   "source": [
    "readlen(BytesIO(b).read)"
   ]
  },
  {
   "cell_type": "code",
   "execution_count": 9,
   "metadata": {},
   "outputs": [],
   "source": [
    "#|export\n",
    "def recv_strings(r):\n",
    "    \"Receive a 2-tuple of variable length utf-8-encoded strings\"\n",
    "    res = []\n",
    "    for _ in range(2):\n",
    "        l = readlen(r)\n",
    "        s = struct.unpack(f'{l}s', r(l))[0].decode('utf-8')\n",
    "        res.append(s)\n",
    "    return res"
   ]
  },
  {
   "cell_type": "code",
   "execution_count": 10,
   "metadata": {},
   "outputs": [
    {
     "data": {
      "text/plain": [
       "['from fastcore.all import *\\n', 'nbprocess_clean --stdin']"
      ]
     },
     "execution_count": 10,
     "metadata": {},
     "output_type": "execute_result"
    }
   ],
   "source": [
    "recv_strings(BytesIO(b).read)"
   ]
  },
  {
   "cell_type": "code",
   "execution_count": 11,
   "metadata": {},
   "outputs": [],
   "source": [
    "#|export\n",
    "def _socket_det(port,host,dgram):\n",
    "    # Source: https://github.com/fastai/fastcore/blob/da9ca219c86190d22f4dbf2c3cad619c477d64a4/fastcore/net.py#L222-L225\n",
    "    if isinstance(port,int): family,addr = socket.AF_INET,(host or socket.gethostname(),port)\n",
    "    else: family,addr = socket.AF_UNIX,port\n",
    "    return family,addr,(socket.SOCK_STREAM,socket.SOCK_DGRAM)[dgram]"
   ]
  },
  {
   "cell_type": "code",
   "execution_count": 12,
   "metadata": {},
   "outputs": [],
   "source": [
    "#|export\n",
    "def start_client(port, host=None, dgram=False):\n",
    "    \"Create a `socket` client on `port`, with optional `host`, of type `dgram`\"\n",
    "    # Source: https://github.com/fastai/fastcore/blob/da9ca219c86190d22f4dbf2c3cad619c477d64a4/fastcore/net.py#L242-L247\n",
    "    family,addr,typ = _socket_det(port,host,dgram)\n",
    "    s = socket.socket(family, typ)\n",
    "    s.connect(addr)\n",
    "    return s"
   ]
  },
  {
   "cell_type": "code",
   "execution_count": 13,
   "metadata": {},
   "outputs": [],
   "source": [
    "class TestHandler(StreamRequestHandler):\n",
    "    def handle(self): self.wfile.write(self.rfile.readline())"
   ]
  },
  {
   "cell_type": "code",
   "execution_count": 14,
   "metadata": {
    "scrolled": true
   },
   "outputs": [
    {
     "name": "stderr",
     "output_type": "stream",
     "text": [
      "Exception in thread Thread-5:\n",
      "Traceback (most recent call last):\n",
      "  File \"/Users/seem/.pyenv/versions/3.9.7/lib/python3.9/threading.py\", line 973, in _bootstrap_inner\n",
      "    self.run()\n",
      "  File \"/Users/seem/.pyenv/versions/3.9.7/lib/python3.9/threading.py\", line 910, in run\n",
      "    self._target(*self._args, **self._kwargs)\n",
      "  File \"/var/folders/ft/0gnvc3ts5jz4ddqtttp6tjvm0000gn/T/ipykernel_63649/253354604.py\", line 4, in _f\n",
      "  File \"/Users/seem/.pyenv/versions/3.9.7/lib/python3.9/socketserver.py\", line 452, in __init__\n",
      "    self.server_bind()\n",
      "  File \"/Users/seem/.pyenv/versions/3.9.7/lib/python3.9/socketserver.py\", line 466, in server_bind\n",
      "    self.socket.bind(self.server_address)\n",
      "OSError: [Errno 48] Address already in use\n"
     ]
    }
   ],
   "source": [
    "addr = host,port = 'localhost',9999\n",
    "@threaded\n",
    "def _f():\n",
    "    with TCPServer(addr,TestHandler) as srv: srv.handle_request()\n",
    "_f()\n",
    "time.sleep(0.2) # wait for server to start"
   ]
  },
  {
   "cell_type": "code",
   "execution_count": 15,
   "metadata": {},
   "outputs": [
    {
     "ename": "ConnectionRefusedError",
     "evalue": "[Errno 61] Connection refused",
     "output_type": "error",
     "traceback": [
      "\u001b[0;31m---------------------------------------------------------------------------\u001b[0m",
      "\u001b[0;31mConnectionRefusedError\u001b[0m                    Traceback (most recent call last)",
      "Input \u001b[0;32mIn [15]\u001b[0m, in \u001b[0;36m<cell line: 1>\u001b[0;34m()\u001b[0m\n\u001b[0;32m----> 1\u001b[0m \u001b[38;5;28;01mwith\u001b[39;00m \u001b[43mstart_client\u001b[49m\u001b[43m(\u001b[49m\u001b[43mport\u001b[49m\u001b[43m,\u001b[49m\u001b[43m \u001b[49m\u001b[43mhost\u001b[49m\u001b[43m)\u001b[49m \u001b[38;5;28;01mas\u001b[39;00m client:\n\u001b[1;32m      2\u001b[0m     \u001b[38;5;28;01mwith\u001b[39;00m client\u001b[38;5;241m.\u001b[39mmakefile(\u001b[38;5;124m'\u001b[39m\u001b[38;5;124mwb\u001b[39m\u001b[38;5;124m'\u001b[39m) \u001b[38;5;28;01mas\u001b[39;00m f: f\u001b[38;5;241m.\u001b[39mwrite(\u001b[38;5;124m'\u001b[39m\u001b[38;5;124mhello world\u001b[39m\u001b[38;5;130;01m\\n\u001b[39;00m\u001b[38;5;124m'\u001b[39m\u001b[38;5;241m.\u001b[39mencode())\n\u001b[1;32m      3\u001b[0m     \u001b[38;5;28;01mwith\u001b[39;00m client\u001b[38;5;241m.\u001b[39mmakefile(\u001b[38;5;124m'\u001b[39m\u001b[38;5;124mrb\u001b[39m\u001b[38;5;124m'\u001b[39m) \u001b[38;5;28;01mas\u001b[39;00m f: \u001b[38;5;28mprint\u001b[39m(f\u001b[38;5;241m.\u001b[39mread()\u001b[38;5;241m.\u001b[39mdecode(), end\u001b[38;5;241m=\u001b[39m\u001b[38;5;124m'\u001b[39m\u001b[38;5;124m'\u001b[39m)\n",
      "Input \u001b[0;32mIn [12]\u001b[0m, in \u001b[0;36mstart_client\u001b[0;34m(port, host, dgram)\u001b[0m\n\u001b[1;32m      5\u001b[0m family,addr,typ \u001b[38;5;241m=\u001b[39m _socket_det(port,host,dgram)\n\u001b[1;32m      6\u001b[0m s \u001b[38;5;241m=\u001b[39m socket\u001b[38;5;241m.\u001b[39msocket(family, typ)\n\u001b[0;32m----> 7\u001b[0m \u001b[43ms\u001b[49m\u001b[38;5;241;43m.\u001b[39;49m\u001b[43mconnect\u001b[49m\u001b[43m(\u001b[49m\u001b[43maddr\u001b[49m\u001b[43m)\u001b[49m\n\u001b[1;32m      8\u001b[0m \u001b[38;5;28;01mreturn\u001b[39;00m s\n",
      "\u001b[0;31mConnectionRefusedError\u001b[0m: [Errno 61] Connection refused"
     ]
    }
   ],
   "source": [
    "with start_client(port, host) as client:\n",
    "    with client.makefile('wb') as f: f.write('hello world\\n'.encode())\n",
    "    with client.makefile('rb') as f: print(f.read().decode(), end='')"
   ]
  },
  {
   "cell_type": "code",
   "execution_count": null,
   "metadata": {},
   "outputs": [],
   "source": [
    "#|export\n",
    "def send_recv(streams, port, host=None, dgram=False):\n",
    "    \"Wraps `start_client`, `send_strings`, and `recv_strings`\"\n",
    "    with start_client(port, host=host, dgram=dgram) as client:\n",
    "        with client.makefile('wb') as f: send_strings(f.write, streams)\n",
    "        with client.makefile('rb') as f: return recv_strings(f.read)"
   ]
  },
  {
   "cell_type": "code",
   "execution_count": null,
   "metadata": {},
   "outputs": [],
   "source": [
    "#|export\n",
    "def _fastdaemon_client(port, host, args):\n",
    "    args = ' '.join(args)\n",
    "    stdin = sys.stdin.read() if not sys.stdin.isatty() else ''\n",
    "    stdout,stderr = send_recv((stdin,args), port, host)\n",
    "    sys.stderr.write(stderr)\n",
    "    sys.stdout.write(stdout)"
   ]
  },
  {
   "cell_type": "code",
   "execution_count": null,
   "metadata": {},
   "outputs": [],
   "source": [
    "#|export\n",
    "def fastdaemon_client(argv=None):\n",
    "    \"Forward `sys.args` and `sys.stdin` to `fastdaemon_server` and write response `stdout` and `stderr`\"\n",
    "    if argv is None: argv = sys.argv[1:]\n",
    "    p = argparse.ArgumentParser(description=fastdaemon_client.__doc__)\n",
    "    p.add_argument('port', type=int, help='Port to connect to')\n",
    "    p.add_argument('--host', type=str, help='Host to connect to', default=None)\n",
    "    args,rest = p.parse_known_args(argv)\n",
    "    args.args = rest\n",
    "    _fastdaemon_client(**vars(args))"
   ]
  },
  {
   "cell_type": "markdown",
   "metadata": {},
   "source": [
    "## Export -"
   ]
  },
  {
   "cell_type": "code",
   "execution_count": 16,
   "metadata": {},
   "outputs": [],
   "source": [
    "#|hide\n",
    "#|eval: false\n",
    "from nbprocess.doclinks import nbprocess_export\n",
    "nbprocess_export()"
   ]
  },
  {
   "cell_type": "code",
   "execution_count": null,
   "metadata": {},
   "outputs": [],
   "source": []
  }
 ],
 "metadata": {
  "kernelspec": {
   "display_name": "Python 3 (ipykernel)",
   "language": "python",
   "name": "python3"
  },
  "language_info": {
   "codemirror_mode": {
    "name": "ipython",
    "version": 3
   },
   "file_extension": ".py",
   "mimetype": "text/x-python",
   "name": "python",
   "nbconvert_exporter": "python",
   "pygments_lexer": "ipython3",
   "version": "3.9.7"
  },
  "toc": {
   "base_numbering": 1,
   "nav_menu": {},
   "number_sections": true,
   "sideBar": true,
   "skip_h1_title": false,
   "title_cell": "Table of Contents",
   "title_sidebar": "Contents",
   "toc_cell": false,
   "toc_position": {},
   "toc_section_display": true,
   "toc_window_display": true
  }
 },
 "nbformat": 4,
 "nbformat_minor": 4
}
