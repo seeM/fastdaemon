args='--stdin' stdin='{\n "cells": [\n  {\n   "cell_type": "code",\n   "execution_count": null,\n   "metadata": {},\n   "outputs": [],\n   "source": [\n    "#|hide\\n",\n    "#|default_exp core"\n   ]\n  },\n  {\n   "cell_type": "markdown",\n   "metadata": {},\n   "source": [\n    "# core\\n",\n    "\\n",\n    "> Fast scripts using daemon mode"\n   ]\n  },\n  {\n   "cell_type": "code",\n   "execution_count": null,\n   "metadata": {},\n   "outputs": [],\n   "source": [\n    "#|export\\n",\n    "import socket\\n",\n    "from contextlib import redirect_stderr, redirect_stdout\\n",\n    "from io import StringIO\\n",\n    "from multiprocessing import get_context\\n",\n    "from socketserver import TCPServer, StreamRequestHandler\\n",\n    "\\n",\n    "from fastcore.meta import *\\n",\n    "from fastcore.net import *\\n",\n    "from fastcore.script import *\\n",\n    "from fastcore.utils import *"\n   ]\n  },\n  {\n   "cell_type": "code",\n   "execution_count": null,\n   "metadata": {},\n   "outputs": [],\n   "source": [\n    "#|hide\\n",\n    "from nbprocess.showdoc import *"\n   ]\n  },\n  {\n   "cell_type": "code",\n   "execution_count": null,\n   "metadata": {},\n   "outputs": [],\n   "source": [\n    "import time\\n",\n    "from fastcore.test import *"\n   ]\n  },\n  {\n   "cell_type": "code",\n   "execution_count": null,\n   "metadata": {},\n   "outputs": [],\n   "source": [\n    "#|export\\n",\n    "import struct\\n",\n    "from io import BytesIO"\n   ]\n  },\n  {\n   "cell_type": "code",\n   "execution_count": null,\n   "metadata": {},\n   "outputs": [],\n   "source": [\n    "#|export\\n",\n    "def pack_streams(streams): # TODO: use chunked?\\n",\n    "    \\"Pack a list of variable length utf-8 strings\\"\\n",\n    "    streams = [o.encode(\'utf-8\') if isinstance(o,str) else o for o in streams]\\n",\n    "    ls = [len(o) for o in streams]\\n",\n    "    fmt = \'!\'+\'\'.join(f\'L{l}s\' for l,s in zip(ls,streams))\\n",\n    "    vs = sum(list(zip(ls, streams)), ())\\n",\n    "    return struct.pack(fmt, *vs)"\n   ]\n  },\n  {\n   "cell_type": "code",\n   "execution_count": null,\n   "metadata": {},\n   "outputs": [\n    {\n     "data": {\n      "text/plain": [\n       "b\'\\\\x00\\\\x00\\\\x00\\\\x1bfrom fastcore.all import *\\\\n\\\\x00\\\\x00\\\\x00\\\\x17nbprocess_clean --stdin\'"\n      ]\n     },\n     "execution_count": null,\n     "metadata": {},\n     "output_type": "execute_result"\n    }\n   ],\n   "source": [\n    "streams = [\'from fastcore.all import *\\\\n\', \'nbprocess_clean --stdin\']\\n",\n    "s = pack_streams(streams); s"\n   ]\n  },\n  {\n   "cell_type": "code",\n   "execution_count": null,\n   "metadata": {},\n   "outputs": [],\n   "source": [\n    "#|export\\n",\n    "def send_streams(w, streams): w(pack_streams(streams)) # TODO: needed?"\n   ]\n  },\n  {\n   "cell_type": "code",\n   "execution_count": null,\n   "metadata": {},\n   "outputs": [],\n   "source": [\n    "#|export\\n",\n    "def readlen(r):\\n",\n    "    \\"Read the length of the next parameter\\"\\n",\n    "    return struct.unpack(\'!L\', r(4))[0]"\n   ]\n  },\n  {\n   "cell_type": "code",\n   "execution_count": null,\n   "metadata": {},\n   "outputs": [\n    {\n     "data": {\n      "text/plain": [\n       "27"\n      ]\n     },\n     "execution_count": null,\n     "metadata": {},\n     "output_type": "execute_result"\n    }\n   ],\n   "source": [\n    "readlen(BytesIO(s).read)"\n   ]\n  },\n  {\n   "cell_type": "code",\n   "execution_count": null,\n   "metadata": {},\n   "outputs": [],\n   "source": [\n    "#|export\\n",\n    "def recv_streams(r):\\n",\n    "    \\"Receive a 2-tuple of variable length utf-8 strings\\"\\n",\n    "    res = []\\n",\n    "    for _ in range(2):\\n",\n    "        lv = readlen(r)\\n",\n    "        v = struct.unpack(f\'{lv}s\', r(lv))[0].decode(\'utf-8\')\\n",\n    "        res.append(v)\\n",\n    "    return res"\n   ]\n  },\n  {\n   "cell_type": "code",\n   "execution_count": null,\n   "metadata": {},\n   "outputs": [\n    {\n     "data": {\n      "text/plain": [\n       "[\'from fastcore.all import *\\\\n\', \'nbprocess_clean --stdin\']"\n      ]\n     },\n     "execution_count": null,\n     "metadata": {},\n     "output_type": "execute_result"\n    }\n   ],\n   "source": [\n    "recv_streams(BytesIO(s).read)"\n   ]\n  },\n  {\n   "cell_type": "code",\n   "execution_count": null,\n   "metadata": {},\n   "outputs": [],\n   "source": [\n    "#|export\\n",\n    "def send_recv(streams, port, host=None, dgram=False):\\n",\n    "    \\"Wraps `start_client`, `send_streams`, and `recv_streams`\\"\\n",\n    "    with start_client(port, host=host, dgram=dgram) as client:\\n",\n    "        with client.makefile(\'wb\') as f: send_streams(f.write, streams)\\n",\n    "        with client.makefile(\'rb\') as f: return recv_streams(f.read)"\n   ]\n  },\n  {\n   "cell_type": "code",\n   "execution_count": null,\n   "metadata": {},\n   "outputs": [],\n   "source": [\n    "#|export\\n",\n    "def _handle(cmd, stdin, args):\\n",\n    "    \\"Execute `cmd` with `stdin` and `args`, and return `stdout`\\"\\n",\n    "    sys.argv = [cmd.__name__] + (args.split(\' \') if args else [])\\n",\n    "    sys.stdin,sys_stdin = StringIO(stdin),sys.stdin\\n",\n    "    with redirect_stdout(StringIO()) as stdout, redirect_stderr(StringIO()) as stderr: cmd()\\n",\n    "    sys.stdin = sys_stdin\\n",\n    "    return tuple(o.getvalue().encode() for o in (stdout,stderr))"\n   ]\n  },\n  {\n   "cell_type": "code",\n   "execution_count": null,\n   "metadata": {},\n   "outputs": [],\n   "source": [\n    "#|export\\n",\n    "class DaemonHandler(StreamRequestHandler):\\n",\n    "    \\"Execute server\'s `cmd` with request args using server\'s process pool\\"\\n",\n    "    def handle(self):\\n",\n    "        stdin,args = recv_streams(self.rfile.read)\\n",\n    "        print(f\'{stdin=} {args=}\')\\n",\n    "        future = self.server.pool.submit(_handle, self.server.cmd, stdin, args)\\n",\n    "        stdout, stderr = future.result()\\n",\n    "        print(f\'{stdout=} {stderr=}\')\\n",\n    "        send_streams(self.wfile.write, (stdout,stderr))"\n   ]\n  },\n  {\n   "cell_type": "markdown",\n   "metadata": {},\n   "source": [\n    "`DaemonHandler`\'s primary use-case is in `DaemonServer`, however it supports any `socketserver.BaseServer` that has `pool` and `cmd` attributes."\n   ]\n  },\n  {\n   "cell_type": "code",\n   "execution_count": null,\n   "metadata": {},\n   "outputs": [],\n   "source": [\n    "#|export\\n",\n    "class DaemonServer(TCPServer): # TODO: could be a mixin to support other servers; `Pool(ed)Server`?\\n",\n    "    \\"A `TCPServer` that executes `cmd` with request args using a process pool\\"\\n",\n    "    @delegates(TCPServer)\\n",\n    "    def __init__(self, server_address, cmd, RequestHandlerClass=DaemonHandler, timeout=None, **kwargs):\\n",\n    "        self.cmd = cmd # TODO: is this the best place for `cmd`?\\n",\n    "        if timeout is not None: self.timeout = timeout\\n",\n    "        self.allow_reuse_address = True\\n",\n    "        super().__init__(server_address, RequestHandlerClass)\\n",\n    "        \\n",\n    "    def server_activate(self):\\n",\n    "        self.pool = ProcessPoolExecutor(mp_context=get_context(\'fork\')) # TODO: make ctx configurable?\\n",\n    "        super().server_activate()\\n",\n    "        \\n",\n    "    def server_close(self):\\n",\n    "        if hasattr(self,\'pool\'): self.pool.shutdown()\\n",\n    "        super().server_close()\\n",\n    "        \\n",\n    "    def handle_timeout(self): return True"\n   ]\n  },\n  {\n   "cell_type": "markdown",\n   "metadata": {},\n   "source": [\n    "Here\'s an example of how to use `DaemonServer`. First, define the `cmd`. It should have no arguments itself but rather parse its arguments from `sys.argv`. Its return value isn\'t used, instead it should write to `stdout`."\n   ]\n  },\n  {\n   "cell_type": "code",\n   "execution_count": null,\n   "metadata": {},\n   "outputs": [],\n   "source": [\n    "def _cmd():\\n",\n    "    import sys\\n",\n    "    name = sys.argv[1]\\n",\n    "    print(f\\"Hello, {name}! stdin here is: \'{sys.stdin.getvalue()}\'\\")\\n",\n    "    sys.stderr.write(\'Error!\')"\n   ]\n  },\n  {\n   "cell_type": "markdown",\n   "metadata": {},\n   "source": [\n    "Then start the server. We start it with `handle_request` in a separate thread:"\n   ]\n  },\n  {\n   "cell_type": "code",\n   "execution_count": null,\n   "metadata": {},\n   "outputs": [],\n   "source": [\n    "addr = host,port = \'localhost\',9999\\n",\n    "@threaded\\n",\n    "def _f():\\n",\n    "    with DaemonServer(addr, _cmd) as srv: srv.handle_request()\\n",\n    "_f()\\n",\n    "time.sleep(0.2) # wait for server to start"\n   ]\n  },\n  {\n   "cell_type": "markdown",\n   "metadata": {},\n   "source": [\n    "...so that we can send a request and print its response:"\n   ]\n  },\n  {\n   "cell_type": "code",\n   "execution_count": null,\n   "metadata": {},\n   "outputs": [\n    {\n     "name": "stdout",\n     "output_type": "stream",\n     "text": [\n      "stdin=\'Input to stdin\' args=\'world\'\\n",\n      "stdout=b\\"Hello, world! stdin here is: \'Input to stdin\'\\\\n\\" stderr=b\'Error!\'\\n"\n     ]\n    },\n    {\n     "data": {\n      "text/plain": [\n       "[\\"Hello, world! stdin here is: \'Input to stdin\'\\\\n\\", \'Error!\']"\n      ]\n     },\n     "execution_count": null,\n     "metadata": {},\n     "output_type": "execute_result"\n    }\n   ],\n   "source": [\n    "send_recv((\'Input to stdin\', \'world\'), port, host)"\n   ]\n  },\n  {\n   "cell_type": "code",\n   "execution_count": null,\n   "metadata": {},\n   "outputs": [],\n   "source": [\n    "#|export\\n",\n    "def fastdaemon_serve(cmd, port, host=None, timeout=None):\\n",\n    "    \\"Serve `cmd` on `port`, with optional `host` and `timeout`\\"\\n",\n    "    host = host or socket.gethostname()\\n",\n    "    with DaemonServer((host,port), cmd, timeout=timeout) as srv:\\n",\n    "        while not srv.handle_request(): pass"\n   ]\n  },\n  {\n   "cell_type": "markdown",\n   "metadata": {},\n   "source": [\n    "A convenient wrapper to instantiate and start a `DaemonServer` that handles requests until it\'s interrupted or times out. Here\'s the previous example using `fastdaemon_serve`:"\n   ]\n  },\n  {\n   "cell_type": "code",\n   "execution_count": null,\n   "metadata": {},\n   "outputs": [],\n   "source": [\n    "@threaded\\n",\n    "def _f(): fastdaemon_serve(_cmd, port, timeout=2)\\n",\n    "_f()\\n",\n    "time.sleep(0.2) # wait for server to start"\n   ]\n  },\n  {\n   "cell_type": "code",\n   "execution_count": null,\n   "metadata": {},\n   "outputs": [\n    {\n     "name": "stdout",\n     "output_type": "stream",\n     "text": [\n      "stdin=\'\' args=\'world\'\\n",\n      "stdout=b\\"Hello, world! stdin here is: \'\'\\\\n\\" stderr=b\'Error!\'\\n"\n     ]\n    },\n    {\n     "data": {\n      "text/plain": [\n       "[\\"Hello, world! stdin here is: \'\'\\\\n\\", \'Error!\']"\n      ]\n     },\n     "execution_count": null,\n     "metadata": {},\n     "output_type": "execute_result"\n    }\n   ],\n   "source": [\n    "send_recv((\'\', \'world\'), port, host)"\n   ]\n  },\n  {\n   "cell_type": "code",\n   "execution_count": null,\n   "metadata": {},\n   "outputs": [],\n   "source": [\n    "#|export\\n",\n    "from nbprocess.clean import wrapio"\n   ]\n  },\n  {\n   "cell_type": "code",\n   "execution_count": null,\n   "metadata": {},\n   "outputs": [],\n   "source": [\n    "#|export\\n",\n    "@call_parse(nested=True)\\n",\n    "def fastdaemon_client(\\n",\n    "    port:int, # Port to connect to\\n",\n    "    host:str=None): # Host to connect to\\n",\n    "    \\"Forward `sys.args` and `sys.stdin` to `fastdaemon_server` and write response `stdout` and `stderr`\\"\\n",\n    "    args = \' \'.join(sys.argv[1:])\\n",\n    "    stdin = wrapio(sys.stdin).read() if not sys.stdin.isatty() else \'\' # TODO: wrapio needed?\\n",\n    "    print(f\'{args=} {stdin=}\')\\n",\n    "    stdout,stderr = send_recv((stdin,args), port, host)\\n",\n    "    sys.stderr.write(stderr)\\n",\n    "    sys.stdout.write(stdout)"\n   ]\n  },\n  {\n   "cell_type": "markdown",\n   "metadata": {},\n   "source": [\n    "Example usage:\\n",\n    "\\n",\n    "```sh\\n",\n    "python client.py 9999 -- arg --keyword value\\n",\n    "```\\n",\n    "\\n",\n    "where `client.py` contains:\\n",\n    "\\n",\n    "```python\\n",\n    "from fastdaemon.core import fastdaemon_client\\n",\n    "fastdaemon_client()\\n",\n    "```"\n   ]\n  },\n  {\n   "cell_type": "markdown",\n   "metadata": {},\n   "source": [\n    "## Export -"\n   ]\n  },\n  {\n   "cell_type": "code",\n   "execution_count": null,\n   "metadata": {},\n   "outputs": [],\n   "source": [\n    "#|hide\\n",\n    "#|eval: false\\n",\n    "from nbprocess.doclinks import nbprocess_export\\n",\n    "nbprocess_export()"\n   ]\n  },\n  {\n   "cell_type": "code",\n   "execution_count": null,\n   "metadata": {},\n   "outputs": [],\n   "source": []\n  }\n ],\n "metadata": {\n  "kernelspec": {\n   "display_name": "Python 3 (ipykernel)",\n   "language": "python",\n   "name": "python3"\n  }\n },\n "nbformat": 4,\n "nbformat_minor": 4\n}\n'
{
 "cells": [
  {
   "cell_type": "code",
   "execution_count": null,
   "metadata": {},
   "outputs": [],
   "source": [
    "#|hide\n",
    "#|default_exp core"
   ]
  },
  {
   "cell_type": "markdown",
   "metadata": {},
   "source": [
    "# core\n",
    "\n",
    "> Fast scripts using daemon mode"
   ]
  },
  {
   "cell_type": "code",
   "execution_count": null,
   "metadata": {},
   "outputs": [],
   "source": [
    "#|export\n",
    "import socket\n",
    "from contextlib import redirect_stderr, redirect_stdout\n",
    "from io import StringIO\n",
    "from multiprocessing import get_context\n",
    "from socketserver import TCPServer, StreamRequestHandler\n",
    "\n",
    "from fastcore.meta import *\n",
    "from fastcore.net import *\n",
    "from fastcore.script import *\n",
    "from fastcore.utils import *"
   ]
  },
  {
   "cell_type": "code",
   "execution_count": null,
   "metadata": {},
   "outputs": [],
   "source": [
    "#|hide\n",
    "from nbprocess.showdoc import *"
   ]
  },
  {
   "cell_type": "code",
   "execution_count": null,
   "metadata": {},
   "outputs": [],
   "source": [
    "import time\n",
    "from fastcore.test import *"
   ]
  },
  {
   "cell_type": "code",
   "execution_count": null,
   "metadata": {},
   "outputs": [],
   "source": [
    "#|export\n",
    "import struct\n",
    "from io import BytesIO"
   ]
  },
  {
   "cell_type": "code",
   "execution_count": null,
   "metadata": {},
   "outputs": [],
   "source": [
    "#|export\n",
    "def pack_streams(streams): # TODO: use chunked?\n",
    "    \"Pack a list of variable length utf-8 strings\"\n",
    "    streams = [o.encode('utf-8') if isinstance(o,str) else o for o in streams]\n",
    "    ls = [len(o) for o in streams]\n",
    "    fmt = '!'+''.join(f'L{l}s' for l,s in zip(ls,streams))\n",
    "    vs = sum(list(zip(ls, streams)), ())\n",
    "    return struct.pack(fmt, *vs)"
   ]
  },
  {
   "cell_type": "code",
   "execution_count": null,
   "metadata": {},
   "outputs": [
    {
     "data": {
      "text/plain": [
       "b'\\x00\\x00\\x00\\x1bfrom fastcore.all import *\\n\\x00\\x00\\x00\\x17nbprocess_clean --stdin'"
      ]
     },
     "execution_count": null,
     "metadata": {},
     "output_type": "execute_result"
    }
   ],
   "source": [
    "streams = ['from fastcore.all import *\\n', 'nbprocess_clean --stdin']\n",
    "s = pack_streams(streams); s"
   ]
  },
  {
   "cell_type": "code",
   "execution_count": null,
   "metadata": {},
   "outputs": [],
   "source": [
    "#|export\n",
    "def send_streams(w, streams): w(pack_streams(streams)) # TODO: needed?"
   ]
  },
  {
   "cell_type": "code",
   "execution_count": null,
   "metadata": {},
   "outputs": [],
   "source": [
    "#|export\n",
    "def readlen(r):\n",
    "    \"Read the length of the next parameter\"\n",
    "    return struct.unpack('!L', r(4))[0]"
   ]
  },
  {
   "cell_type": "code",
   "execution_count": null,
   "metadata": {},
   "outputs": [
    {
     "data": {
      "text/plain": [
       "27"
      ]
     },
     "execution_count": null,
     "metadata": {},
     "output_type": "execute_result"
    }
   ],
   "source": [
    "readlen(BytesIO(s).read)"
   ]
  },
  {
   "cell_type": "code",
   "execution_count": null,
   "metadata": {},
   "outputs": [],
   "source": [
    "#|export\n",
    "def recv_streams(r):\n",
    "    \"Receive a 2-tuple of variable length utf-8 strings\"\n",
    "    res = []\n",
    "    for _ in range(2):\n",
    "        lv = readlen(r)\n",
    "        v = struct.unpack(f'{lv}s', r(lv))[0].decode('utf-8')\n",
    "        res.append(v)\n",
    "    return res"
   ]
  },
  {
   "cell_type": "code",
   "execution_count": null,
   "metadata": {},
   "outputs": [
    {
     "data": {
      "text/plain": [
       "['from fastcore.all import *\\n', 'nbprocess_clean --stdin']"
      ]
     },
     "execution_count": null,
     "metadata": {},
     "output_type": "execute_result"
    }
   ],
   "source": [
    "recv_streams(BytesIO(s).read)"
   ]
  },
  {
   "cell_type": "code",
   "execution_count": null,
   "metadata": {},
   "outputs": [],
   "source": [
    "#|export\n",
    "def send_recv(streams, port, host=None, dgram=False):\n",
    "    \"Wraps `start_client`, `send_streams`, and `recv_streams`\"\n",
    "    with start_client(port, host=host, dgram=dgram) as client:\n",
    "        with client.makefile('wb') as f: send_streams(f.write, streams)\n",
    "        with client.makefile('rb') as f: return recv_streams(f.read)"
   ]
  },
  {
   "cell_type": "code",
   "execution_count": null,
   "metadata": {},
   "outputs": [],
   "source": [
    "#|export\n",
    "def _handle(cmd, stdin, args):\n",
    "    \"Execute `cmd` with `stdin` and `args`, and return `stdout`\"\n",
    "    sys.argv = [cmd.__name__] + (args.split(' ') if args else [])\n",
    "    sys.stdin,sys_stdin = StringIO(stdin),sys.stdin\n",
    "    with redirect_stdout(StringIO()) as stdout, redirect_stderr(StringIO()) as stderr: cmd()\n",
    "    sys.stdin = sys_stdin\n",
    "    return tuple(o.getvalue().encode() for o in (stdout,stderr))"
   ]
  },
  {
   "cell_type": "code",
   "execution_count": null,
   "metadata": {},
   "outputs": [],
   "source": [
    "#|export\n",
    "class DaemonHandler(StreamRequestHandler):\n",
    "    \"Execute server's `cmd` with request args using server's process pool\"\n",
    "    def handle(self):\n",
    "        stdin,args = recv_streams(self.rfile.read)\n",
    "        print(f'{stdin=} {args=}')\n",
    "        future = self.server.pool.submit(_handle, self.server.cmd, stdin, args)\n",
    "        stdout, stderr = future.result()\n",
    "        print(f'{stdout=} {stderr=}')\n",
    "        send_streams(self.wfile.write, (stdout,stderr))"
   ]
  },
  {
   "cell_type": "markdown",
   "metadata": {},
   "source": [
    "`DaemonHandler`'s primary use-case is in `DaemonServer`, however it supports any `socketserver.BaseServer` that has `pool` and `cmd` attributes."
   ]
  },
  {
   "cell_type": "code",
   "execution_count": null,
   "metadata": {},
   "outputs": [],
   "source": [
    "#|export\n",
    "class DaemonServer(TCPServer): # TODO: could be a mixin to support other servers; `Pool(ed)Server`?\n",
    "    \"A `TCPServer` that executes `cmd` with request args using a process pool\"\n",
    "    @delegates(TCPServer)\n",
    "    def __init__(self, server_address, cmd, RequestHandlerClass=DaemonHandler, timeout=None, **kwargs):\n",
    "        self.cmd = cmd # TODO: is this the best place for `cmd`?\n",
    "        if timeout is not None: self.timeout = timeout\n",
    "        self.allow_reuse_address = True\n",
    "        super().__init__(server_address, RequestHandlerClass)\n",
    "        \n",
    "    def server_activate(self):\n",
    "        self.pool = ProcessPoolExecutor(mp_context=get_context('fork')) # TODO: make ctx configurable?\n",
    "        super().server_activate()\n",
    "        \n",
    "    def server_close(self):\n",
    "        if hasattr(self,'pool'): self.pool.shutdown()\n",
    "        super().server_close()\n",
    "        \n",
    "    def handle_timeout(self): return True"
   ]
  },
  {
   "cell_type": "markdown",
   "metadata": {},
   "source": [
    "Here's an example of how to use `DaemonServer`. First, define the `cmd`. It should have no arguments itself but rather parse its arguments from `sys.argv`. Its return value isn't used, instead it should write to `stdout`."
   ]
  },
  {
   "cell_type": "code",
   "execution_count": null,
   "metadata": {},
   "outputs": [],
   "source": [
    "def _cmd():\n",
    "    import sys\n",
    "    name = sys.argv[1]\n",
    "    print(f\"Hello, {name}! stdin here is: '{sys.stdin.getvalue()}'\")\n",
    "    sys.stderr.write('Error!')"
   ]
  },
  {
   "cell_type": "markdown",
   "metadata": {},
   "source": [
    "Then start the server. We start it with `handle_request` in a separate thread:"
   ]
  },
  {
   "cell_type": "code",
   "execution_count": null,
   "metadata": {},
   "outputs": [],
   "source": [
    "addr = host,port = 'localhost',9999\n",
    "@threaded\n",
    "def _f():\n",
    "    with DaemonServer(addr, _cmd) as srv: srv.handle_request()\n",
    "_f()\n",
    "time.sleep(0.2) # wait for server to start"
   ]
  },
  {
   "cell_type": "markdown",
   "metadata": {},
   "source": [
    "...so that we can send a request and print its response:"
   ]
  },
  {
   "cell_type": "code",
   "execution_count": null,
   "metadata": {},
   "outputs": [
    {
     "name": "stdout",
     "output_type": "stream",
     "text": [
      "stdin='Input to stdin' args='world'\n",
      "stdout=b\"Hello, world! stdin here is: 'Input to stdin'\\n\" stderr=b'Error!'\n"
     ]
    },
    {
     "data": {
      "text/plain": [
       "[\"Hello, world! stdin here is: 'Input to stdin'\\n\", 'Error!']"
      ]
     },
     "execution_count": null,
     "metadata": {},
     "output_type": "execute_result"
    }
   ],
   "source": [
    "send_recv(('Input to stdin', 'world'), port, host)"
   ]
  },
  {
   "cell_type": "code",
   "execution_count": null,
   "metadata": {},
   "outputs": [],
   "source": [
    "#|export\n",
    "def fastdaemon_serve(cmd, port, host=None, timeout=None):\n",
    "    \"Serve `cmd` on `port`, with optional `host` and `timeout`\"\n",
    "    host = host or socket.gethostname()\n",
    "    with DaemonServer((host,port), cmd, timeout=timeout) as srv:\n",
    "        while not srv.handle_request(): pass"
   ]
  },
  {
   "cell_type": "markdown",
   "metadata": {},
   "source": [
    "A convenient wrapper to instantiate and start a `DaemonServer` that handles requests until it's interrupted or times out. Here's the previous example using `fastdaemon_serve`:"
   ]
  },
  {
   "cell_type": "code",
   "execution_count": null,
   "metadata": {},
   "outputs": [],
   "source": [
    "@threaded\n",
    "def _f(): fastdaemon_serve(_cmd, port, timeout=2)\n",
    "_f()\n",
    "time.sleep(0.2) # wait for server to start"
   ]
  },
  {
   "cell_type": "code",
   "execution_count": null,
   "metadata": {},
   "outputs": [
    {
     "name": "stdout",
     "output_type": "stream",
     "text": [
      "stdin='' args='world'\n",
      "stdout=b\"Hello, world! stdin here is: ''\\n\" stderr=b'Error!'\n"
     ]
    },
    {
     "data": {
      "text/plain": [
       "[\"Hello, world! stdin here is: ''\\n\", 'Error!']"
      ]
     },
     "execution_count": null,
     "metadata": {},
     "output_type": "execute_result"
    }
   ],
   "source": [
    "send_recv(('', 'world'), port, host)"
   ]
  },
  {
   "cell_type": "code",
   "execution_count": null,
   "metadata": {},
   "outputs": [],
   "source": [
    "#|export\n",
    "from nbprocess.clean import wrapio"
   ]
  },
  {
   "cell_type": "code",
   "execution_count": null,
   "metadata": {},
   "outputs": [],
   "source": [
    "#|export\n",
    "@call_parse(nested=True)\n",
    "def fastdaemon_client(\n",
    "    port:int, # Port to connect to\n",
    "    host:str=None): # Host to connect to\n",
    "    \"Forward `sys.args` and `sys.stdin` to `fastdaemon_server` and write response `stdout` and `stderr`\"\n",
    "    args = ' '.join(sys.argv[1:])\n",
    "    stdin = wrapio(sys.stdin).read() if not sys.stdin.isatty() else '' # TODO: wrapio needed?\n",
    "    print(f'{args=} {stdin=}')\n",
    "    stdout,stderr = send_recv((stdin,args), port, host)\n",
    "    sys.stderr.write(stderr)\n",
    "    sys.stdout.write(stdout)"
   ]
  },
  {
   "cell_type": "markdown",
   "metadata": {},
   "source": [
    "Example usage:\n",
    "\n",
    "```sh\n",
    "python client.py 9999 -- arg --keyword value\n",
    "```\n",
    "\n",
    "where `client.py` contains:\n",
    "\n",
    "```python\n",
    "from fastdaemon.core import fastdaemon_client\n",
    "fastdaemon_client()\n",
    "```"
   ]
  },
  {
   "cell_type": "markdown",
   "metadata": {},
   "source": [
    "## Export -"
   ]
  },
  {
   "cell_type": "code",
   "execution_count": null,
   "metadata": {},
   "outputs": [],
   "source": [
    "#|hide\n",
    "#|eval: false\n",
    "from nbprocess.doclinks import nbprocess_export\n",
    "nbprocess_export()"
   ]
  },
  {
   "cell_type": "code",
   "execution_count": null,
   "metadata": {},
   "outputs": [],
   "source": []
  }
 ],
 "metadata": {
  "kernelspec": {
   "display_name": "Python 3 (ipykernel)",
   "language": "python",
   "name": "python3"
  }
 },
 "nbformat": 4,
 "nbformat_minor": 4
}
