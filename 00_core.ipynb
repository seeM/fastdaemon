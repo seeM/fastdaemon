{
 "cells": [
  {
   "cell_type": "code",
   "execution_count": null,
   "metadata": {},
   "outputs": [],
   "source": [
    "#|hide\n",
    "#|default_exp core"
   ]
  },
  {
   "cell_type": "markdown",
   "metadata": {},
   "source": [
    "# core\n",
    "\n",
    "> Fast scripts using daemon mode"
   ]
  },
  {
   "cell_type": "code",
   "execution_count": null,
   "metadata": {},
   "outputs": [],
   "source": [
    "#|export\n",
    "import socket\n",
    "from contextlib import redirect_stdout\n",
    "from io import StringIO\n",
    "from multiprocessing import get_context\n",
    "from socketserver import TCPServer, StreamRequestHandler\n",
    "\n",
    "from fastcore.meta import *\n",
    "from fastcore.net import *\n",
    "from fastcore.script import *\n",
    "from fastcore.utils import *"
   ]
  },
  {
   "cell_type": "code",
   "execution_count": null,
   "metadata": {},
   "outputs": [],
   "source": [
    "#|hide\n",
    "from nbprocess.showdoc import *"
   ]
  },
  {
   "cell_type": "code",
   "execution_count": null,
   "metadata": {},
   "outputs": [],
   "source": [
    "import time\n",
    "\n",
    "from fastcore.test import *"
   ]
  },
  {
   "cell_type": "code",
   "execution_count": null,
   "metadata": {},
   "outputs": [],
   "source": [
    "#|export\n",
    "def send_recv(s, port, host=None, dgram=False, encoding='utf-8'):\n",
    "    \"Wraps `start_client`; send string `s` in `encoding` and return its response\"\n",
    "    with start_client(port, host=host, dgram=dgram) as client:\n",
    "        client.sendall((s+'\\n').encode(encoding))\n",
    "        with client.makefile('rb') as f: return f.read().decode('utf-8')"
   ]
  },
  {
   "cell_type": "code",
   "execution_count": null,
   "metadata": {},
   "outputs": [],
   "source": [
    "#|export\n",
    "def _handle(cmd, data):\n",
    "    \"Execute `cmd` with args parsed from `data` and return `stdout`\"\n",
    "    argv = data.decode().strip()\n",
    "    sys.argv = [cmd.__name__] + (argv.split(' ') if argv else [])\n",
    "    with redirect_stdout(StringIO()) as s: cmd()\n",
    "    return s.getvalue().encode()"
   ]
  },
  {
   "cell_type": "code",
   "execution_count": null,
   "metadata": {},
   "outputs": [],
   "source": [
    "#|export\n",
    "class DaemonHandler(StreamRequestHandler):\n",
    "    \"Execute server's `cmd` with request args using server's process pool\"\n",
    "    def handle(self):\n",
    "        data = self.rfile.readline().strip()\n",
    "        future = self.server.pool.submit(_handle, self.server.cmd, data)\n",
    "        result = future.result()\n",
    "        self.wfile.write(result)"
   ]
  },
  {
   "cell_type": "markdown",
   "metadata": {},
   "source": [
    "`DaemonHandler`'s primary use-case is in `DaemonServer`, however it supports any `socketserver.BaseServer` that has `pool` and `cmd` attributes."
   ]
  },
  {
   "cell_type": "code",
   "execution_count": null,
   "metadata": {},
   "outputs": [],
   "source": [
    "#|export\n",
    "class DaemonServer(TCPServer): # TODO: could be a mixin to support other servers; `Pool(ed)Server`?\n",
    "    \"A `TCPServer` that executes `cmd` with request args using a process pool\"\n",
    "    @delegates(TCPServer)\n",
    "    def __init__(self, server_address, cmd, RequestHandlerClass=DaemonHandler, timeout=None, **kwargs):\n",
    "        self.cmd = cmd # TODO: is this the best place for `cmd`?\n",
    "        if timeout is not None: self.timeout = timeout\n",
    "        self.allow_reuse_address = True\n",
    "        super().__init__(server_address, RequestHandlerClass)\n",
    "        \n",
    "    def server_activate(self):\n",
    "        self.pool = ProcessPoolExecutor(mp_context=get_context('fork')) # TODO: make ctx configurable?\n",
    "        super().server_activate()\n",
    "        \n",
    "    def server_close(self):\n",
    "        if hasattr(self,'pool'): self.pool.shutdown()\n",
    "        super().server_close()\n",
    "        \n",
    "    def handle_timeout(self): return True"
   ]
  },
  {
   "cell_type": "markdown",
   "metadata": {},
   "source": [
    "Here's an example of how to use `DaemonServer`. First, define the `cmd`. It should have no arguments itself but rather parse its arguments from `sys.argv`. Its return value isn't used, instead it should write to `stdout`."
   ]
  },
  {
   "cell_type": "code",
   "execution_count": null,
   "metadata": {},
   "outputs": [],
   "source": [
    "def _cmd():\n",
    "    import sys\n",
    "    name = sys.argv[1]\n",
    "    print(f'Hello, {name}!')"
   ]
  },
  {
   "cell_type": "markdown",
   "metadata": {},
   "source": [
    "Then start the server. We start it with `handle_request` in a separate thread:"
   ]
  },
  {
   "cell_type": "code",
   "execution_count": null,
   "metadata": {},
   "outputs": [],
   "source": [
    "addr = host,port = 'localhost',9999\n",
    "@threaded\n",
    "def _f():\n",
    "    with DaemonServer(addr, _cmd) as srv: srv.handle_request()\n",
    "_f()\n",
    "time.sleep(0.2) # wait for server to start"
   ]
  },
  {
   "cell_type": "markdown",
   "metadata": {},
   "source": [
    "...so that we can send a request and print its response:"
   ]
  },
  {
   "cell_type": "code",
   "execution_count": null,
   "metadata": {},
   "outputs": [
    {
     "data": {
      "text/plain": [
       "'Hello, world!\\n'"
      ]
     },
     "execution_count": null,
     "metadata": {},
     "output_type": "execute_result"
    }
   ],
   "source": [
    "send_recv('world', port, host) # TODO: should `send_recv` print result to stdout?"
   ]
  },
  {
   "cell_type": "code",
   "execution_count": null,
   "metadata": {},
   "outputs": [],
   "source": [
    "#|export\n",
    "def fastdaemon_serve(cmd, port, host=None, timeout=None):\n",
    "    \"Serve `cmd` on `port`, with optional `host` and `timeout`\"\n",
    "    host = host or socket.gethostname()\n",
    "    with DaemonServer((host,port), cmd, timeout=timeout) as srv:\n",
    "        while not srv.handle_request(): pass"
   ]
  },
  {
   "cell_type": "markdown",
   "metadata": {},
   "source": [
    "A convenient wrapper to instantiate and start a `DaemonServer` that handles requests until it's interrupted or times out. Here's the previous example using `fastdaemon_serve`:"
   ]
  },
  {
   "cell_type": "code",
   "execution_count": null,
   "metadata": {},
   "outputs": [],
   "source": [
    "@threaded\n",
    "def _f(): fastdaemon_serve(_cmd, 9999, timeout=1)\n",
    "_f()\n",
    "time.sleep(0.2) # wait for server to start"
   ]
  },
  {
   "cell_type": "code",
   "execution_count": null,
   "metadata": {},
   "outputs": [
    {
     "data": {
      "text/plain": [
       "'Hello, world!\\n'"
      ]
     },
     "execution_count": null,
     "metadata": {},
     "output_type": "execute_result"
    }
   ],
   "source": [
    "send_recv('world', port, host)"
   ]
  },
  {
   "cell_type": "markdown",
   "metadata": {},
   "source": [
    "## Export -"
   ]
  },
  {
   "cell_type": "code",
   "execution_count": null,
   "metadata": {},
   "outputs": [],
   "source": [
    "#|hide\n",
    "#|eval: false\n",
    "from nbprocess.doclinks import nbprocess_export\n",
    "nbprocess_export()"
   ]
  },
  {
   "cell_type": "code",
   "execution_count": null,
   "metadata": {},
   "outputs": [],
   "source": []
  }
 ],
 "metadata": {
  "kernelspec": {
   "display_name": "Python 3 (ipykernel)",
   "language": "python",
   "name": "python3"
  }
 },
 "nbformat": 4,
 "nbformat_minor": 4
}
