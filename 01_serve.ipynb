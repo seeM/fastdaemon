{
 "cells": [
  {
   "cell_type": "code",
   "execution_count": null,
   "metadata": {},
   "outputs": [],
   "source": [
    "#|hide\n",
    "#|default_exp serve"
   ]
  },
  {
   "cell_type": "markdown",
   "metadata": {},
   "source": [
    "# serve\n",
    "\n",
    "> fastdaemon server"
   ]
  },
  {
   "cell_type": "code",
   "execution_count": null,
   "metadata": {},
   "outputs": [],
   "source": [
    "#|export\n",
    "import importlib\n",
    "import sys\n",
    "from contextlib import contextmanager\n",
    "from functools import partial\n",
    "from io import StringIO\n",
    "from multiprocessing import get_context\n",
    "from socketserver import TCPServer, StreamRequestHandler, ThreadingTCPServer, ThreadingUnixStreamServer\n",
    "\n",
    "from fastcore.parallel import ProcessPoolExecutor\n",
    "from fastcore.script import *\n",
    "\n",
    "from fastdaemon.core import *\n",
    "\n",
    "from datetime import datetime # TODO: remove after optimising"
   ]
  },
  {
   "cell_type": "code",
   "execution_count": null,
   "metadata": {},
   "outputs": [],
   "source": [
    "#|hide\n",
    "from nbprocess.showdoc import *"
   ]
  },
  {
   "cell_type": "code",
   "execution_count": null,
   "metadata": {},
   "outputs": [],
   "source": [
    "import time\n",
    "from fastcore.parallel import threaded\n",
    "from pathlib import Path\n",
    "from socketserver import UnixStreamServer"
   ]
  },
  {
   "cell_type": "code",
   "execution_count": null,
   "metadata": {},
   "outputs": [],
   "source": [
    "#|export\n",
    "def _setattrs(o, d):\n",
    "    for k,v in d.items(): setattr(o,k,v)"
   ]
  },
  {
   "cell_type": "code",
   "execution_count": null,
   "metadata": {},
   "outputs": [],
   "source": [
    "#|export\n",
    "@contextmanager\n",
    "def _redirect_streams(argv, stdin, stdout, stderr):\n",
    "    new = {k:v for k,v in locals().items()}\n",
    "    old = {o:getattr(sys,o) for o in new.keys()}\n",
    "    _setattrs(sys, new)\n",
    "    try: yield new['stdout'],new['stderr']\n",
    "    finally: _setattrs(sys, old)"
   ]
  },
  {
   "cell_type": "code",
   "execution_count": null,
   "metadata": {},
   "outputs": [],
   "source": [
    "#|export\n",
    "def _run(cmd, argv, stdin, stdout, stderr):\n",
    "    with _redirect_streams(argv,stdin,stdout,stderr): cmd()\n",
    "    return stdout,stderr"
   ]
  },
  {
   "cell_type": "code",
   "execution_count": null,
   "metadata": {},
   "outputs": [],
   "source": [
    "#|export\n",
    "class CmdHandler(StreamRequestHandler):\n",
    "    \"Run `self.server.cmd` with request's `argv` and `stdin`; return `stdout` and `stderr`\"\n",
    "    def setup(self):\n",
    "        super().setup()\n",
    "        stdin,argv = recv_record(self.rfile.read)\n",
    "        self.argv = [self.server.cmd.__name__] + argv.split(' ') if argv else []\n",
    "        self.stdin,self.stdout,self.stderr = StringIO(stdin),StringIO(),StringIO()\n",
    "        print(f'len(stdin)={len(self.stdin.getvalue())} argv={self.argv}')\n",
    "    def finish(self):\n",
    "        self.stdout,self.stderr = self.stdout.getvalue(),self.stderr.getvalue()\n",
    "        send_record(self.wfile.write, (self.stdout,self.stderr))\n",
    "        super().finish()\n",
    "    def _handle(self, f):\n",
    "        pool = getattr(self.server,'pool',None)\n",
    "        if pool is not None: return pool.submit(f).result()\n",
    "        return f()\n",
    "    def handle(self):\n",
    "        f = partial(_run, self.server.cmd, self.argv, self.stdin, self.stdout, self.stderr)\n",
    "        self.stdout,self.stderr = self._handle(f)"
   ]
  },
  {
   "cell_type": "markdown",
   "metadata": {},
   "source": [
    "`CmdHandler`'s primary use-case is together with a server inheriting `CmdMixin`, however it supports any `socketserver.BaseServer` that has a `cmd` attribute. If the server also has a `pool` it's used to execute `cmd`."
   ]
  },
  {
   "cell_type": "markdown",
   "metadata": {},
   "source": [
    "Here's an example of how to use `CmdHandler`. First, define the command. It should have no arguments itself but rather parse its arguments from `sys.argv`. Its return value isn't used, instead it should write to `stdout`."
   ]
  },
  {
   "cell_type": "code",
   "execution_count": null,
   "metadata": {},
   "outputs": [],
   "source": [
    "def _cmd():\n",
    "    sys.stdout.write(sys.stdin.read()+sys.argv[1])\n",
    "    sys.stderr.write('Error!')"
   ]
  },
  {
   "cell_type": "markdown",
   "metadata": {},
   "source": [
    "Then define a server with a `cmd` attribute:"
   ]
  },
  {
   "cell_type": "code",
   "execution_count": null,
   "metadata": {},
   "outputs": [],
   "source": [
    "class _CmdServer(UnixStreamServer): cmd = lambda x: _cmd()"
   ]
  },
  {
   "cell_type": "markdown",
   "metadata": {},
   "source": [
    "Start the server. We start it with `handle_request` in a separate thread:"
   ]
  },
  {
   "cell_type": "code",
   "execution_count": null,
   "metadata": {},
   "outputs": [],
   "source": [
    "p = Path('fdaemon.sock')\n",
    "if p.exists(): p.unlink()\n",
    "\n",
    "@threaded\n",
    "def _f():\n",
    "    with _CmdServer(str(p), CmdHandler) as srv: srv.handle_request()\n",
    "_f()\n",
    "time.sleep(0.2) # wait for server to start"
   ]
  },
  {
   "cell_type": "markdown",
   "metadata": {},
   "source": [
    "...so that we can send a request and print its response:"
   ]
  },
  {
   "cell_type": "code",
   "execution_count": null,
   "metadata": {},
   "outputs": [
    {
     "name": "stdout",
     "output_type": "stream",
     "text": [
      "len(stdin)=7 argv=['<lambda>', 'world!']\n"
     ]
    },
    {
     "data": {
      "text/plain": [
       "['Hello, world!', 'Error!']"
      ]
     },
     "execution_count": null,
     "metadata": {},
     "output_type": "execute_result"
    }
   ],
   "source": [
    "transfer(['Hello, ', 'world!'], str(p))"
   ]
  },
  {
   "cell_type": "code",
   "execution_count": null,
   "metadata": {},
   "outputs": [],
   "source": [
    "#|export\n",
    "class CmdMixin:\n",
    "    \"Socket server with a `cmd` and optional `pool`\"\n",
    "    def __init__(self, server_address, cmd, pool=None, RequestHandlerClass=CmdHandler, timeout=None, **kwargs):\n",
    "        self.cmd,self.pool = cmd,pool\n",
    "        if timeout is not None: self.timeout = timeout\n",
    "        super().__init__(server_address, RequestHandlerClass)\n",
    "\n",
    "    def handle_timeout(self): return True"
   ]
  },
  {
   "cell_type": "code",
   "execution_count": null,
   "metadata": {},
   "outputs": [],
   "source": [
    "class CmdUnixServer(CmdMixin, ThreadingUnixStreamServer): pass"
   ]
  },
  {
   "cell_type": "code",
   "execution_count": null,
   "metadata": {},
   "outputs": [],
   "source": [
    "p = Path('fdaemon.sock')\n",
    "if p.exists(): p.unlink()\n",
    "\n",
    "@threaded\n",
    "def _f():\n",
    "    with ProcessPoolExecutor() as pool, CmdUnixServer(str(p), _cmd, pool) as srv: srv.handle_request()\n",
    "_f()\n",
    "time.sleep(0.2) # wait for server to start"
   ]
  },
  {
   "cell_type": "code",
   "execution_count": null,
   "metadata": {},
   "outputs": [
    {
     "name": "stdout",
     "output_type": "stream",
     "text": [
      "len(stdin)=7 argv=['_cmd', 'world!']\n"
     ]
    },
    {
     "data": {
      "text/plain": [
       "['Hello, world!', 'Error!']"
      ]
     },
     "execution_count": null,
     "metadata": {},
     "output_type": "execute_result"
    }
   ],
   "source": [
    "transfer(['Hello, ', 'world!'], str(p))"
   ]
  },
  {
   "cell_type": "code",
   "execution_count": null,
   "metadata": {},
   "outputs": [],
   "source": [
    "#|export\n",
    "class CmdTCPServer(CmdMixin, ThreadingTCPServer):\n",
    "    allow_reuse_address = True"
   ]
  },
  {
   "cell_type": "code",
   "execution_count": null,
   "metadata": {},
   "outputs": [],
   "source": [
    "#|export\n",
    "def _fastdaemon_serve(cmd, port, host='localhost', timeout=None):\n",
    "    \"Serve `cmd` on `port`, with optional `host` and `timeout`\"\n",
    "    with ProcessPoolExecutor() as pool, CmdTCPServer((host,port), cmd, pool, timeout=timeout) as srv:\n",
    "        while not srv.handle_request(): pass"
   ]
  },
  {
   "cell_type": "markdown",
   "metadata": {},
   "source": [
    "A convenient wrapper to instantiate and start a `CmdTCPServer` that handles requests until it's interrupted or times out. Here's the previous example using `_fastdaemon_serve`. We've also set a `timeout` to avoid running forever:"
   ]
  },
  {
   "cell_type": "code",
   "execution_count": null,
   "metadata": {},
   "outputs": [],
   "source": [
    "host,port = 'localhost',9999\n",
    "\n",
    "@threaded\n",
    "def _f(): _fastdaemon_serve(_cmd, port, host, timeout=1)\n",
    "_f()\n",
    "time.sleep(0.4) # wait for server to start"
   ]
  },
  {
   "cell_type": "code",
   "execution_count": null,
   "metadata": {},
   "outputs": [
    {
     "name": "stdout",
     "output_type": "stream",
     "text": [
      "len(stdin)=7 argv=['_cmd', 'world!']\n"
     ]
    },
    {
     "data": {
      "text/plain": [
       "['Hello, world!', 'Error!']"
      ]
     },
     "execution_count": null,
     "metadata": {},
     "output_type": "execute_result"
    }
   ],
   "source": [
    "transfer(['Hello, ', 'world!'], port, host)"
   ]
  },
  {
   "cell_type": "code",
   "execution_count": null,
   "metadata": {},
   "outputs": [],
   "source": [
    "#|export\n",
    "def _import_cmd(cmd):\n",
    "    mn, on = cmd.split(':')\n",
    "    m = importlib.import_module(mn)\n",
    "    return getattr(m,on)"
   ]
  },
  {
   "cell_type": "code",
   "execution_count": null,
   "metadata": {},
   "outputs": [
    {
     "data": {
      "text/plain": [
       "<function nbprocess.clean.nbprocess_clean(fname: str = None, clear_all: bool = False, disp: bool = False, stdin: bool = False)>"
      ]
     },
     "execution_count": null,
     "metadata": {},
     "output_type": "execute_result"
    }
   ],
   "source": [
    "_import_cmd('nbprocess.clean:nbprocess_clean')"
   ]
  },
  {
   "cell_type": "code",
   "execution_count": null,
   "metadata": {},
   "outputs": [],
   "source": [
    "#|export\n",
    "@call_parse\n",
    "def fastdaemon_serve(\n",
    "    cmd:str, # Module path to callable command (example: pkg.mod:obj)\n",
    "    port:int, # Server port\n",
    "    host:str='localhost', # Server host\n",
    "    timeout:int=None): # Shutdown after `timeout` seconds without requests\n",
    "    \"Serve `cmd` on `port`, with optional `host` and `timeout`\"\n",
    "    _cmd = _import_cmd(cmd)\n",
    "    _fastdaemon_serve(_cmd, port, host, timeout) # TODO: dont need two functions because of call_parse"
   ]
  },
  {
   "cell_type": "code",
   "execution_count": null,
   "metadata": {},
   "outputs": [
    {
     "name": "stdout",
     "output_type": "stream",
     "text": [
      "usage: fastdaemon_serve [-h] [--host HOST] [--timeout TIMEOUT] cmd port\r\n",
      "\r\n",
      "Serve `cmd` on `port`, with optional `host` and `timeout`\r\n",
      "\r\n",
      "positional arguments:\r\n",
      "  cmd                Module path to callable command (example: pkg.mod:obj)\r\n",
      "  port               Server port\r\n",
      "\r\n",
      "optional arguments:\r\n",
      "  -h, --help         show this help message and exit\r\n",
      "  --host HOST        Server host (default: localhost)\r\n",
      "  --timeout TIMEOUT  Shutdown after `timeout` seconds without requests\r\n"
     ]
    }
   ],
   "source": [
    "!fastdaemon_serve -h"
   ]
  },
  {
   "cell_type": "markdown",
   "metadata": {},
   "source": [
    "## Export -"
   ]
  },
  {
   "cell_type": "code",
   "execution_count": null,
   "metadata": {},
   "outputs": [],
   "source": [
    "#|hide\n",
    "#|eval: false\n",
    "from nbprocess.doclinks import nbprocess_export\n",
    "nbprocess_export()"
   ]
  },
  {
   "cell_type": "code",
   "execution_count": null,
   "metadata": {},
   "outputs": [],
   "source": []
  }
 ],
 "metadata": {
  "kernelspec": {
   "display_name": "Python 3 (ipykernel)",
   "language": "python",
   "name": "python3"
  }
 },
 "nbformat": 4,
 "nbformat_minor": 4
}
