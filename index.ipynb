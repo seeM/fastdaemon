args='--stdin' stdin='{\n "cells": [\n  {\n   "cell_type": "code",\n   "execution_count": null,\n   "metadata": {},\n   "outputs": [],\n   "source": [\n    "#|hide\\n",\n    "from fastdaemon.core import *"\n   ]\n  },\n  {\n   "cell_type": "markdown",\n   "metadata": {},\n   "source": [\n    "# fastdaemon\\n",\n    "\\n",\n    "> Fast scripts using daemon mode"\n   ]\n  },\n  {\n   "cell_type": "markdown",\n   "metadata": {},\n   "source": [\n    "**NB: fastdaemon is experimental. Use it at your own risk!**"\n   ]\n  },\n  {\n   "cell_type": "markdown",\n   "metadata": {},\n   "source": [\n    "## Install"\n   ]\n  },\n  {\n   "cell_type": "markdown",\n   "metadata": {},\n   "source": [\n    "fastdaemon isn\'t hosted on PyPI yet, but you can install it directly from GitHub:"\n   ]\n  },\n  {\n   "cell_type": "markdown",\n   "metadata": {},\n   "source": [\n    "```sh\\n",\n    "pip install git+https://github.com/seem/fastdaemon.git\\n",\n    "```"\n   ]\n  },\n  {\n   "cell_type": "markdown",\n   "metadata": {},\n   "source": [\n    "## How to use"\n   ]\n  },\n  {\n   "cell_type": "markdown",\n   "metadata": {},\n   "source": [\n    "Although fastdaemon is still under development, you can use it to run `nbprocess`\'s git hooks. First start a server wrapping `nbprocess_clean`. **Beware** - it is not considered stable and you could lose your work!\\n",\n    "\\n",\n    "```sh\\n",\n    "python serve_nbprocess_clean.py\\n",\n    "```\\n",\n    "\\n",\n    "Then update your `.gitconfig` as follows:\\n",\n    "\\n",\n    "```\\n",\n    "[filter \\"clean-nbs\\"]\\n",\n    "        clean = python client.py 9998 -- --stdin\\n",\n    "        smudge = cat\\n",\n    "        required = true\\n",\n    "[diff \\"ipynb\\"]\\n",\n    "        textconv = python client.py 9998 --disp --fname\\n",\n    "```"\n   ]\n  },\n  {\n   "cell_type": "markdown",\n   "metadata": {},\n   "source": [\n    "## Export -"\n   ]\n  },\n  {\n   "cell_type": "code",\n   "execution_count": null,\n   "metadata": {},\n   "outputs": [],\n   "source": [\n    "#|hide\\n",\n    "#|eval: false\\n",\n    "from nbprocess.doclinks import nbprocess_export\\n",\n    "nbprocess_export()"\n   ]\n  }\n ],\n "metadata": {\n  "kernelspec": {\n   "display_name": "Python 3 (ipykernel)",\n   "language": "python",\n   "name": "python3"\n  }\n },\n "nbformat": 4,\n "nbformat_minor": 4\n}\n'
{
 "cells": [
  {
   "cell_type": "code",
   "execution_count": null,
   "metadata": {},
   "outputs": [],
   "source": [
    "#|hide\n",
    "from fastdaemon.core import *"
   ]
  },
  {
   "cell_type": "markdown",
   "metadata": {},
   "source": [
    "# fastdaemon\n",
    "\n",
    "> Fast scripts using daemon mode"
   ]
  },
  {
   "cell_type": "markdown",
   "metadata": {},
   "source": [
    "**NB: fastdaemon is experimental. Use it at your own risk!**"
   ]
  },
  {
   "cell_type": "markdown",
   "metadata": {},
   "source": [
    "## Install"
   ]
  },
  {
   "cell_type": "markdown",
   "metadata": {},
   "source": [
    "fastdaemon isn't hosted on PyPI yet, but you can install it directly from GitHub:"
   ]
  },
  {
   "cell_type": "markdown",
   "metadata": {},
   "source": [
    "```sh\n",
    "pip install git+https://github.com/seem/fastdaemon.git\n",
    "```"
   ]
  },
  {
   "cell_type": "markdown",
   "metadata": {},
   "source": [
    "## How to use"
   ]
  },
  {
   "cell_type": "markdown",
   "metadata": {},
   "source": [
    "Although fastdaemon is still under development, you can use it to run `nbprocess`'s git hooks. First start a server wrapping `nbprocess_clean`. **Beware** - it is not considered stable and you could lose your work!\n",
    "\n",
    "```sh\n",
    "python serve_nbprocess_clean.py\n",
    "```\n",
    "\n",
    "Then update your `.gitconfig` as follows:\n",
    "\n",
    "```\n",
    "[filter \"clean-nbs\"]\n",
    "        clean = python client.py 9998 -- --stdin\n",
    "        smudge = cat\n",
    "        required = true\n",
    "[diff \"ipynb\"]\n",
    "        textconv = python client.py 9998 --disp --fname\n",
    "```"
   ]
  },
  {
   "cell_type": "markdown",
   "metadata": {},
   "source": [
    "## Export -"
   ]
  },
  {
   "cell_type": "code",
   "execution_count": null,
   "metadata": {},
   "outputs": [],
   "source": [
    "#|hide\n",
    "#|eval: false\n",
    "from nbprocess.doclinks import nbprocess_export\n",
    "nbprocess_export()"
   ]
  }
 ],
 "metadata": {
  "kernelspec": {
   "display_name": "Python 3 (ipykernel)",
   "language": "python",
   "name": "python3"
  }
 },
 "nbformat": 4,
 "nbformat_minor": 4
}
